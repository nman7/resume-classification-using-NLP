{
  "nbformat": 4,
  "nbformat_minor": 0,
  "metadata": {
    "colab": {
      "name": "resumefiltering.ipynb",
      "version": "0.3.2",
      "provenance": [],
      "collapsed_sections": []
    },
    "kernelspec": {
      "name": "python3",
      "display_name": "Python 3"
    }
  },
  "cells": [
    {
      "cell_type": "markdown",
      "metadata": {
        "id": "9U3NvBE_ifXz",
        "colab_type": "text"
      },
      "source": [
        "**1**.**importing dataset 'trainbhai.csv' which includes projects ,each project contain a keyword like ML,gamedev,webdev corresponding to unique label value 1,2,3**.\n",
        "\n",
        "\n",
        "\n",
        "\n"
      ]
    },
    {
      "cell_type": "code",
      "metadata": {
        "id": "ndNKKlx3-iaO",
        "colab_type": "code",
        "colab": {
          "base_uri": "https://localhost:8080/",
          "height": 190
        },
        "cellView": "both",
        "outputId": "5966c1b4-fa93-4397-8729-26e88fe54146"
      },
      "source": [
        "\n",
        "import pandas as pd\n",
        "data = pd.read_csv('trainbhai.csv',sep=\"\\t\")\n",
        "print(data)"
      ],
      "execution_count": 221,
      "outputs": [
        {
          "output_type": "stream",
          "text": [
            "                                            PROJECTS  LABEL\n",
            "0  BigMart Sales Prediction ML Project  Learn abo...      1\n",
            "1  Social Media Sentiment Analysis using Twitter ...      1\n",
            "2         Boston Housing Price Prediction ML Project      1\n",
            "3                  One Page Responsive Layout webdev      2\n",
            "4               Multi-Page Responsive Website webdev      2\n",
            "5                  Small JavaScript Quiz Game webdev      2\n",
            "6                                       2048 gamedev      3\n",
            "7                                   ninjarun gamedev      3\n",
            "8                                  karatsube gamedev      3\n"
          ],
          "name": "stdout"
        }
      ]
    },
    {
      "cell_type": "markdown",
      "metadata": {
        "id": "1aK9yshMiJOF",
        "colab_type": "text"
      },
      "source": [
        "**2**. **rows and columns in trainbhai.csv**\n",
        "\n",
        "**3. viewing first 5 rows of datset**\n"
      ]
    },
    {
      "cell_type": "code",
      "metadata": {
        "id": "AaV-cprG_InU",
        "colab_type": "code",
        "colab": {
          "base_uri": "https://localhost:8080/",
          "height": 34
        },
        "outputId": "e97457ca-77a5-4365-b54e-3fc93774047a"
      },
      "source": [
        "data.shape\n",
        "\n"
      ],
      "execution_count": 222,
      "outputs": [
        {
          "output_type": "execute_result",
          "data": {
            "text/plain": [
              "(9, 2)"
            ]
          },
          "metadata": {
            "tags": []
          },
          "execution_count": 222
        }
      ]
    },
    {
      "cell_type": "code",
      "metadata": {
        "id": "mvO3JwFF_Nyp",
        "colab_type": "code",
        "colab": {
          "base_uri": "https://localhost:8080/",
          "height": 198
        },
        "outputId": "d45cc011-36d4-41b7-a9df-189e620a3d2a"
      },
      "source": [
        "data.head()"
      ],
      "execution_count": 223,
      "outputs": [
        {
          "output_type": "execute_result",
          "data": {
            "text/html": [
              "<div>\n",
              "<style scoped>\n",
              "    .dataframe tbody tr th:only-of-type {\n",
              "        vertical-align: middle;\n",
              "    }\n",
              "\n",
              "    .dataframe tbody tr th {\n",
              "        vertical-align: top;\n",
              "    }\n",
              "\n",
              "    .dataframe thead th {\n",
              "        text-align: right;\n",
              "    }\n",
              "</style>\n",
              "<table border=\"1\" class=\"dataframe\">\n",
              "  <thead>\n",
              "    <tr style=\"text-align: right;\">\n",
              "      <th></th>\n",
              "      <th>PROJECTS</th>\n",
              "      <th>LABEL</th>\n",
              "    </tr>\n",
              "  </thead>\n",
              "  <tbody>\n",
              "    <tr>\n",
              "      <th>0</th>\n",
              "      <td>BigMart Sales Prediction ML Project  Learn abo...</td>\n",
              "      <td>1</td>\n",
              "    </tr>\n",
              "    <tr>\n",
              "      <th>1</th>\n",
              "      <td>Social Media Sentiment Analysis using Twitter ...</td>\n",
              "      <td>1</td>\n",
              "    </tr>\n",
              "    <tr>\n",
              "      <th>2</th>\n",
              "      <td>Boston Housing Price Prediction ML Project</td>\n",
              "      <td>1</td>\n",
              "    </tr>\n",
              "    <tr>\n",
              "      <th>3</th>\n",
              "      <td>One Page Responsive Layout webdev</td>\n",
              "      <td>2</td>\n",
              "    </tr>\n",
              "    <tr>\n",
              "      <th>4</th>\n",
              "      <td>Multi-Page Responsive Website webdev</td>\n",
              "      <td>2</td>\n",
              "    </tr>\n",
              "  </tbody>\n",
              "</table>\n",
              "</div>"
            ],
            "text/plain": [
              "                                            PROJECTS  LABEL\n",
              "0  BigMart Sales Prediction ML Project  Learn abo...      1\n",
              "1  Social Media Sentiment Analysis using Twitter ...      1\n",
              "2         Boston Housing Price Prediction ML Project      1\n",
              "3                  One Page Responsive Layout webdev      2\n",
              "4               Multi-Page Responsive Website webdev      2"
            ]
          },
          "metadata": {
            "tags": []
          },
          "execution_count": 223
        }
      ]
    },
    {
      "cell_type": "markdown",
      "metadata": {
        "id": "6yNiHlB5jl-E",
        "colab_type": "text"
      },
      "source": [
        "**4.splitting dependent and dependent variables .**\n",
        "\n",
        "**5. checking if any NULL value or blank spce and removing it.**"
      ]
    },
    {
      "cell_type": "code",
      "metadata": {
        "id": "uAhyLsBu_U8d",
        "colab_type": "code",
        "colab": {
          "base_uri": "https://localhost:8080/",
          "height": 484
        },
        "outputId": "5d7727be-3552-41c0-9f4b-abd1bcb5f3ef"
      },
      "source": [
        "X = data[\"PROJECTS\"]\n",
        "print(X)\n",
        "y = data[\"LABEL\"]\n",
        "print(y)\n",
        "print(\"//////////////////////////////////\")\n",
        "\n",
        "blanks = []\n",
        "for ind,label,review in data.itertuples():\n",
        "  if type(review) == str:\n",
        "    if review.isspace():\n",
        "      blanks.append(ind)\n",
        "print(\"///////////////////////////////////\")\n",
        "print(len(blanks))\n",
        "\n",
        "#remove nan values\n",
        "print(data.dropna(inplace=True))\n",
        "data.isnull().sum()\n",
        "#if null value in both coumns\n"
      ],
      "execution_count": 224,
      "outputs": [
        {
          "output_type": "stream",
          "text": [
            "0    BigMart Sales Prediction ML Project  Learn abo...\n",
            "1    Social Media Sentiment Analysis using Twitter ...\n",
            "2           Boston Housing Price Prediction ML Project\n",
            "3                    One Page Responsive Layout webdev\n",
            "4                 Multi-Page Responsive Website webdev\n",
            "5                    Small JavaScript Quiz Game webdev\n",
            "6                                         2048 gamedev\n",
            "7                                     ninjarun gamedev\n",
            "8                                    karatsube gamedev\n",
            "Name: PROJECTS, dtype: object\n",
            "0    1\n",
            "1    1\n",
            "2    1\n",
            "3    2\n",
            "4    2\n",
            "5    2\n",
            "6    3\n",
            "7    3\n",
            "8    3\n",
            "Name: LABEL, dtype: int64\n",
            "//////////////////////////////////\n",
            "///////////////////////////////////\n",
            "0\n",
            "None\n"
          ],
          "name": "stdout"
        },
        {
          "output_type": "execute_result",
          "data": {
            "text/plain": [
              "PROJECTS    0\n",
              "LABEL       0\n",
              "dtype: int64"
            ]
          },
          "metadata": {
            "tags": []
          },
          "execution_count": 224
        }
      ]
    },
    {
      "cell_type": "markdown",
      "metadata": {
        "id": "fXoAZx5mj6Tc",
        "colab_type": "text"
      },
      "source": [
        "**6. types of label category.**\n",
        "\n",
        "**7. total number of each category.**"
      ]
    },
    {
      "cell_type": "code",
      "metadata": {
        "id": "9DiraqC1_ZRn",
        "colab_type": "code",
        "colab": {
          "base_uri": "https://localhost:8080/",
          "height": 34
        },
        "outputId": "41fe7433-3051-4e06-f64e-310034928a9a"
      },
      "source": [
        "data[\"LABEL\"].unique()\n",
        "#types of Liked data\n"
      ],
      "execution_count": 225,
      "outputs": [
        {
          "output_type": "execute_result",
          "data": {
            "text/plain": [
              "array([1, 2, 3])"
            ]
          },
          "metadata": {
            "tags": []
          },
          "execution_count": 225
        }
      ]
    },
    {
      "cell_type": "code",
      "metadata": {
        "id": "KRhmPTiJKPA0",
        "colab_type": "code",
        "colab": {
          "base_uri": "https://localhost:8080/",
          "height": 86
        },
        "outputId": "28b0644b-19fa-4f34-821e-d098a1e92cd4"
      },
      "source": [
        "data[\"LABEL\"].value_counts()\n",
        "#number of + or - reviews"
      ],
      "execution_count": 226,
      "outputs": [
        {
          "output_type": "execute_result",
          "data": {
            "text/plain": [
              "3    3\n",
              "2    3\n",
              "1    3\n",
              "Name: LABEL, dtype: int64"
            ]
          },
          "metadata": {
            "tags": []
          },
          "execution_count": 226
        }
      ]
    },
    {
      "cell_type": "markdown",
      "metadata": {
        "id": "JmXpgZTFkMFp",
        "colab_type": "text"
      },
      "source": [
        "**8. creating a pipeline**\n",
        "\n",
        "**9. using tfidf vectorizer**\n",
        "\n",
        "**10.fitting SVM model to  tain model from dataset trainbhai.csv**"
      ]
    },
    {
      "cell_type": "code",
      "metadata": {
        "id": "q3oWe6T_KewX",
        "colab_type": "code",
        "colab": {
          "base_uri": "https://localhost:8080/",
          "height": 380
        },
        "outputId": "492b1e6b-0336-4d3f-ad69-61df7cca53b8"
      },
      "source": [
        "from sklearn.pipeline import Pipeline\n",
        "from sklearn.feature_extraction.text import TfidfVectorizer\n",
        "from sklearn.svm import LinearSVC\n",
        "pl = Pipeline([('tfidf',TfidfVectorizer()),('clf',LinearSVC())])\n",
        "pl.fit(X,y)\n"
      ],
      "execution_count": 227,
      "outputs": [
        {
          "output_type": "execute_result",
          "data": {
            "text/plain": [
              "Pipeline(memory=None,\n",
              "         steps=[('tfidf',\n",
              "                 TfidfVectorizer(analyzer='word', binary=False,\n",
              "                                 decode_error='strict',\n",
              "                                 dtype=<class 'numpy.float64'>,\n",
              "                                 encoding='utf-8', input='content',\n",
              "                                 lowercase=True, max_df=1.0, max_features=None,\n",
              "                                 min_df=1, ngram_range=(1, 1), norm='l2',\n",
              "                                 preprocessor=None, smooth_idf=True,\n",
              "                                 stop_words=None, strip_accents=None,\n",
              "                                 sublinear_tf=False,\n",
              "                                 token_pattern='(?u)\\\\b\\\\w\\\\w+\\\\b',\n",
              "                                 tokenizer=None, use_idf=True,\n",
              "                                 vocabulary=None)),\n",
              "                ('clf',\n",
              "                 LinearSVC(C=1.0, class_weight=None, dual=True,\n",
              "                           fit_intercept=True, intercept_scaling=1,\n",
              "                           loss='squared_hinge', max_iter=1000,\n",
              "                           multi_class='ovr', penalty='l2', random_state=None,\n",
              "                           tol=0.0001, verbose=0))],\n",
              "         verbose=False)"
            ]
          },
          "metadata": {
            "tags": []
          },
          "execution_count": 227
        }
      ]
    },
    {
      "cell_type": "markdown",
      "metadata": {
        "id": "0RTtY2A1klsk",
        "colab_type": "text"
      },
      "source": [
        "**11. opening our text file i.e. bhai.txt which incudes resume information.**\n",
        "\n",
        "**12. extracing data from projects till skills.**\n",
        "\n",
        "**13. seperating it with \".\"**\n",
        "\n",
        "**14. appending it to new text file bhai1.txt and naming  column as PROJECTS.**\n",
        "\n",
        "**15. so at step \"14\" we got our Testing data.**"
      ]
    },
    {
      "cell_type": "code",
      "metadata": {
        "id": "wWxFlCGUMRl8",
        "colab_type": "code",
        "colab": {
          "base_uri": "https://localhost:8080/",
          "height": 435
        },
        "outputId": "c7fd99a2-12ac-4b17-eb3d-875858804ed4"
      },
      "source": [
        "with open('bhai.txt', 'r') as file:\n",
        "    data = file.read().replace('\\n', '')\n",
        "\n",
        "import re\n",
        "\n",
        "y = re.search(r\"(?<=projects).*?(?=skills)\", data).group(0)\n",
        "print(y)\n",
        "\n",
        "\n",
        "print(y.split(\".\"))\n",
        "\n",
        "import csv\n",
        "\n",
        "with open('bhai1.tsv', 'wt') as out_file:\n",
        "    tsv_writer = csv.writer(out_file, delimiter='\\t')\n",
        "    tsv_writer.writerow(['PROJECTS'])\n",
        "    for item in y.split('.'):\n",
        "      print(item)\n",
        "      tsv_writer.writerow([item])\n",
        "d = pd.read_csv(\"bhai1.tsv\",sep=\"\\t\")\n",
        "print(d)"
      ],
      "execution_count": 228,
      "outputs": [
        {
          "output_type": "stream",
          "text": [
            "data anlysis in X company ML.ML data scientist in USA.text predict ML NLP.ML machine learning professional.pubg gamedev.subway surfer gamedev.gamedev bikeracer.facebook development social software webdev.whatsapp webdev.\n",
            "['data anlysis in X company ML', 'ML data scientist in USA', 'text predict ML NLP', 'ML machine learning professional', 'pubg gamedev', 'subway surfer gamedev', 'gamedev bikeracer', 'facebook development social software webdev', 'whatsapp webdev', '']\n",
            "data anlysis in X company ML\n",
            "ML data scientist in USA\n",
            "text predict ML NLP\n",
            "ML machine learning professional\n",
            "pubg gamedev\n",
            "subway surfer gamedev\n",
            "gamedev bikeracer\n",
            "facebook development social software webdev\n",
            "whatsapp webdev\n",
            "\n",
            "                                      PROJECTS\n",
            "0                 data anlysis in X company ML\n",
            "1                     ML data scientist in USA\n",
            "2                          text predict ML NLP\n",
            "3             ML machine learning professional\n",
            "4                                 pubg gamedev\n",
            "5                        subway surfer gamedev\n",
            "6                            gamedev bikeracer\n",
            "7  facebook development social software webdev\n",
            "8                              whatsapp webdev\n",
            "9                                          NaN\n"
          ],
          "name": "stdout"
        }
      ]
    },
    {
      "cell_type": "markdown",
      "metadata": {
        "id": "0As_nL3TlbQO",
        "colab_type": "text"
      },
      "source": [
        "**16.checking if null or blank space in testing data**\n",
        "\n",
        "1**7.predicting test data and on corresponding value of it incrementing m,w,g.**\n",
        "\n",
        "**18.ploting m,w,g as a pie chart labelled as 'MACHINE_LEARNING', 'GAME_DEVELOPMENT','WEB',**\n",
        "\n",
        "**19. clearly filters and classify resume based on projects.**"
      ]
    },
    {
      "cell_type": "code",
      "metadata": {
        "id": "uHbCFOh9Mm5D",
        "colab_type": "code",
        "colab": {
          "base_uri": "https://localhost:8080/",
          "height": 290
        },
        "outputId": "100410be-26a9-4923-94e2-42decf0b4104"
      },
      "source": [
        "print(d.dropna(inplace=True))\n",
        "d.isnull().sum()\n",
        "#if null value in both coumns\n",
        "predicts = pl.predict(d[\"PROJECTS\"])\n",
        "print(predicts)\n",
        "m=0\n",
        "g=0\n",
        "w=0\n",
        "for h in predicts:\n",
        "  if h==1:\n",
        "    m=m+1\n",
        "  elif h==2:\n",
        "    w=w+1\n",
        "  elif h==3:\n",
        "    g = g+1\n",
        "import matplotlib.pyplot as plt\n",
        "slices_hours = [m,g,w]\n",
        "activities = ['MACHINE_LEARNING', 'GAME_DEVELOPMENT','WEB']\n",
        "colors = ['r', 'g','cyan']\n",
        "plt.pie(slices_hours, labels=activities, colors=colors, startangle=90, autopct='%.1f%%')\n",
        "plt.show()\n",
        "\n",
        "\n",
        "\n"
      ],
      "execution_count": 229,
      "outputs": [
        {
          "output_type": "stream",
          "text": [
            "None\n",
            "[1 1 1 1 3 3 3 2 2]\n"
          ],
          "name": "stdout"
        },
        {
          "output_type": "display_data",
          "data": {
            "image/png": "[encoded data removed]",
            "text/plain": [
              "<Figure size 432x288 with 1 Axes>"
            ]
          },
          "metadata": {
            "tags": []
          }
        }
      ]
    },
    {
      "cell_type": "code",
      "metadata": {
        "id": "n4MkxFX9NNuc",
        "colab_type": "code",
        "colab": {}
      },
      "source": [
        ""
      ],
      "execution_count": 0,
      "outputs": []
    }
  ]
}